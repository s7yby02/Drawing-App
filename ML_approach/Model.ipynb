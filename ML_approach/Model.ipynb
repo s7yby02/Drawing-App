{
 "cells": [
  {
   "cell_type": "markdown",
   "metadata": {},
   "source": [
    "# <center>Model Building</center>"
   ]
  },
  {
   "cell_type": "markdown",
   "metadata": {},
   "source": [
    "In this section, we'll build a model that classify between the shapes."
   ]
  },
  {
   "cell_type": "code",
   "execution_count": 2,
   "metadata": {},
   "outputs": [],
   "source": [
    "import pandas as pd"
   ]
  },
  {
   "cell_type": "code",
   "execution_count": 3,
   "metadata": {},
   "outputs": [
    {
     "data": {
      "text/html": [
       "<div>\n",
       "<style scoped>\n",
       "    .dataframe tbody tr th:only-of-type {\n",
       "        vertical-align: middle;\n",
       "    }\n",
       "\n",
       "    .dataframe tbody tr th {\n",
       "        vertical-align: top;\n",
       "    }\n",
       "\n",
       "    .dataframe thead th {\n",
       "        text-align: right;\n",
       "    }\n",
       "</style>\n",
       "<table border=\"1\" class=\"dataframe\">\n",
       "  <thead>\n",
       "    <tr style=\"text-align: right;\">\n",
       "      <th></th>\n",
       "      <th>no_paths</th>\n",
       "      <th>no_points</th>\n",
       "      <th>width</th>\n",
       "      <th>height</th>\n",
       "      <th>elongation</th>\n",
       "      <th>length</th>\n",
       "      <th>area</th>\n",
       "      <th>roundness</th>\n",
       "      <th>drawing</th>\n",
       "    </tr>\n",
       "  </thead>\n",
       "  <tbody>\n",
       "    <tr>\n",
       "      <th>0</th>\n",
       "      <td>5</td>\n",
       "      <td>883</td>\n",
       "      <td>339</td>\n",
       "      <td>243</td>\n",
       "      <td>1.393443</td>\n",
       "      <td>621.724587</td>\n",
       "      <td>21566.0</td>\n",
       "      <td>0.701106</td>\n",
       "      <td>car</td>\n",
       "    </tr>\n",
       "    <tr>\n",
       "      <th>1</th>\n",
       "      <td>4</td>\n",
       "      <td>596</td>\n",
       "      <td>321</td>\n",
       "      <td>227</td>\n",
       "      <td>1.412281</td>\n",
       "      <td>580.020937</td>\n",
       "      <td>15616.5</td>\n",
       "      <td>0.583319</td>\n",
       "      <td>fish</td>\n",
       "    </tr>\n",
       "    <tr>\n",
       "      <th>2</th>\n",
       "      <td>8</td>\n",
       "      <td>571</td>\n",
       "      <td>287</td>\n",
       "      <td>272</td>\n",
       "      <td>1.054945</td>\n",
       "      <td>579.209087</td>\n",
       "      <td>23580.5</td>\n",
       "      <td>0.883267</td>\n",
       "      <td>house</td>\n",
       "    </tr>\n",
       "    <tr>\n",
       "      <th>3</th>\n",
       "      <td>3</td>\n",
       "      <td>575</td>\n",
       "      <td>263</td>\n",
       "      <td>335</td>\n",
       "      <td>1.272727</td>\n",
       "      <td>703.863135</td>\n",
       "      <td>32369.5</td>\n",
       "      <td>0.821050</td>\n",
       "      <td>tree</td>\n",
       "    </tr>\n",
       "    <tr>\n",
       "      <th>4</th>\n",
       "      <td>5</td>\n",
       "      <td>586</td>\n",
       "      <td>283</td>\n",
       "      <td>263</td>\n",
       "      <td>1.075758</td>\n",
       "      <td>574.167315</td>\n",
       "      <td>21621.0</td>\n",
       "      <td>0.824155</td>\n",
       "      <td>bicycle</td>\n",
       "    </tr>\n",
       "  </tbody>\n",
       "</table>\n",
       "</div>"
      ],
      "text/plain": [
       "   no_paths  no_points  width  height  elongation      length     area  \\\n",
       "0         5        883    339     243    1.393443  621.724587  21566.0   \n",
       "1         4        596    321     227    1.412281  580.020937  15616.5   \n",
       "2         8        571    287     272    1.054945  579.209087  23580.5   \n",
       "3         3        575    263     335    1.272727  703.863135  32369.5   \n",
       "4         5        586    283     263    1.075758  574.167315  21621.0   \n",
       "\n",
       "   roundness  drawing  \n",
       "0   0.701106      car  \n",
       "1   0.583319     fish  \n",
       "2   0.883267    house  \n",
       "3   0.821050     tree  \n",
       "4   0.824155  bicycle  "
      ]
     },
     "execution_count": 3,
     "metadata": {},
     "output_type": "execute_result"
    }
   ],
   "source": [
    "df = pd.read_csv('../newdata/csv/data.csv')\n",
    "df.head()"
   ]
  },
  {
   "cell_type": "code",
   "execution_count": 4,
   "metadata": {},
   "outputs": [
    {
     "data": {
      "text/html": [
       "<div>\n",
       "<style scoped>\n",
       "    .dataframe tbody tr th:only-of-type {\n",
       "        vertical-align: middle;\n",
       "    }\n",
       "\n",
       "    .dataframe tbody tr th {\n",
       "        vertical-align: top;\n",
       "    }\n",
       "\n",
       "    .dataframe thead th {\n",
       "        text-align: right;\n",
       "    }\n",
       "</style>\n",
       "<table border=\"1\" class=\"dataframe\">\n",
       "  <thead>\n",
       "    <tr style=\"text-align: right;\">\n",
       "      <th></th>\n",
       "      <th>no_paths</th>\n",
       "      <th>no_points</th>\n",
       "      <th>width</th>\n",
       "      <th>height</th>\n",
       "      <th>elongation</th>\n",
       "      <th>length</th>\n",
       "      <th>area</th>\n",
       "      <th>roundness</th>\n",
       "      <th>drawing</th>\n",
       "    </tr>\n",
       "  </thead>\n",
       "  <tbody>\n",
       "    <tr>\n",
       "      <th>5502</th>\n",
       "      <td>3</td>\n",
       "      <td>572</td>\n",
       "      <td>321</td>\n",
       "      <td>366</td>\n",
       "      <td>1.139752</td>\n",
       "      <td>892.049033</td>\n",
       "      <td>54646.0</td>\n",
       "      <td>0.862960</td>\n",
       "      <td>tree</td>\n",
       "    </tr>\n",
       "    <tr>\n",
       "      <th>5503</th>\n",
       "      <td>10</td>\n",
       "      <td>703</td>\n",
       "      <td>310</td>\n",
       "      <td>324</td>\n",
       "      <td>1.045016</td>\n",
       "      <td>565.407418</td>\n",
       "      <td>17501.5</td>\n",
       "      <td>0.687958</td>\n",
       "      <td>bicycle</td>\n",
       "    </tr>\n",
       "    <tr>\n",
       "      <th>5504</th>\n",
       "      <td>11</td>\n",
       "      <td>613</td>\n",
       "      <td>370</td>\n",
       "      <td>252</td>\n",
       "      <td>1.466403</td>\n",
       "      <td>642.163428</td>\n",
       "      <td>14504.0</td>\n",
       "      <td>0.441984</td>\n",
       "      <td>guitar</td>\n",
       "    </tr>\n",
       "    <tr>\n",
       "      <th>5505</th>\n",
       "      <td>8</td>\n",
       "      <td>990</td>\n",
       "      <td>178</td>\n",
       "      <td>301</td>\n",
       "      <td>1.687151</td>\n",
       "      <td>450.218074</td>\n",
       "      <td>4680.0</td>\n",
       "      <td>0.290142</td>\n",
       "      <td>pencil</td>\n",
       "    </tr>\n",
       "    <tr>\n",
       "      <th>5506</th>\n",
       "      <td>1</td>\n",
       "      <td>124</td>\n",
       "      <td>299</td>\n",
       "      <td>264</td>\n",
       "      <td>1.132075</td>\n",
       "      <td>636.952912</td>\n",
       "      <td>31336.5</td>\n",
       "      <td>0.970612</td>\n",
       "      <td>clock</td>\n",
       "    </tr>\n",
       "  </tbody>\n",
       "</table>\n",
       "</div>"
      ],
      "text/plain": [
       "      no_paths  no_points  width  height  elongation      length     area  \\\n",
       "5502         3        572    321     366    1.139752  892.049033  54646.0   \n",
       "5503        10        703    310     324    1.045016  565.407418  17501.5   \n",
       "5504        11        613    370     252    1.466403  642.163428  14504.0   \n",
       "5505         8        990    178     301    1.687151  450.218074   4680.0   \n",
       "5506         1        124    299     264    1.132075  636.952912  31336.5   \n",
       "\n",
       "      roundness  drawing  \n",
       "5502   0.862960     tree  \n",
       "5503   0.687958  bicycle  \n",
       "5504   0.441984   guitar  \n",
       "5505   0.290142   pencil  \n",
       "5506   0.970612    clock  "
      ]
     },
     "execution_count": 4,
     "metadata": {},
     "output_type": "execute_result"
    }
   ],
   "source": [
    "df.tail()"
   ]
  },
  {
   "cell_type": "code",
   "execution_count": 5,
   "metadata": {},
   "outputs": [
    {
     "data": {
      "text/plain": [
       "tree       694\n",
       "bicycle    692\n",
       "guitar     692\n",
       "clock      690\n",
       "car        689\n",
       "house      689\n",
       "fish       686\n",
       "pencil     675\n",
       "Name: drawing, dtype: int64"
      ]
     },
     "execution_count": 5,
     "metadata": {},
     "output_type": "execute_result"
    }
   ],
   "source": [
    "df['drawing'].value_counts()"
   ]
  },
  {
   "cell_type": "code",
   "execution_count": 6,
   "metadata": {},
   "outputs": [
    {
     "data": {
      "text/plain": [
       "<Axes: >"
      ]
     },
     "execution_count": 6,
     "metadata": {},
     "output_type": "execute_result"
    },
    {
     "data": {
      "image/png": "[encoded data removed]",
      "text/plain": [
       "<Figure size 640x480 with 1 Axes>"
      ]
     },
     "metadata": {},
     "output_type": "display_data"
    }
   ],
   "source": [
    "df['drawing'].value_counts().plot(kind='barh')"
   ]
  },
  {
   "cell_type": "markdown",
   "metadata": {},
   "source": [
    "#### Label Encoding\n",
    "Transforming categorical data into a numerical ones"
   ]
  },
  {
   "cell_type": "code",
   "execution_count": 7,
   "metadata": {},
   "outputs": [],
   "source": [
    "from sklearn.preprocessing import LabelEncoder\n",
    "label_encode = LabelEncoder()"
   ]
  },
  {
   "cell_type": "code",
   "execution_count": 8,
   "metadata": {},
   "outputs": [],
   "source": [
    "labels = label_encode.fit_transform(df.drawing)\n",
    "df['drawing']=labels"
   ]
  },
  {
   "cell_type": "code",
   "execution_count": 9,
   "metadata": {},
   "outputs": [
    {
     "data": {
      "text/html": [
       "<div>\n",
       "<style scoped>\n",
       "    .dataframe tbody tr th:only-of-type {\n",
       "        vertical-align: middle;\n",
       "    }\n",
       "\n",
       "    .dataframe tbody tr th {\n",
       "        vertical-align: top;\n",
       "    }\n",
       "\n",
       "    .dataframe thead th {\n",
       "        text-align: right;\n",
       "    }\n",
       "</style>\n",
       "<table border=\"1\" class=\"dataframe\">\n",
       "  <thead>\n",
       "    <tr style=\"text-align: right;\">\n",
       "      <th></th>\n",
       "      <th>no_paths</th>\n",
       "      <th>no_points</th>\n",
       "      <th>width</th>\n",
       "      <th>height</th>\n",
       "      <th>elongation</th>\n",
       "      <th>length</th>\n",
       "      <th>area</th>\n",
       "      <th>roundness</th>\n",
       "      <th>drawing</th>\n",
       "    </tr>\n",
       "  </thead>\n",
       "  <tbody>\n",
       "    <tr>\n",
       "      <th>0</th>\n",
       "      <td>5</td>\n",
       "      <td>883</td>\n",
       "      <td>339</td>\n",
       "      <td>243</td>\n",
       "      <td>1.393443</td>\n",
       "      <td>621.724587</td>\n",
       "      <td>21566.0</td>\n",
       "      <td>0.701106</td>\n",
       "      <td>1</td>\n",
       "    </tr>\n",
       "    <tr>\n",
       "      <th>1</th>\n",
       "      <td>4</td>\n",
       "      <td>596</td>\n",
       "      <td>321</td>\n",
       "      <td>227</td>\n",
       "      <td>1.412281</td>\n",
       "      <td>580.020937</td>\n",
       "      <td>15616.5</td>\n",
       "      <td>0.583319</td>\n",
       "      <td>3</td>\n",
       "    </tr>\n",
       "    <tr>\n",
       "      <th>2</th>\n",
       "      <td>8</td>\n",
       "      <td>571</td>\n",
       "      <td>287</td>\n",
       "      <td>272</td>\n",
       "      <td>1.054945</td>\n",
       "      <td>579.209087</td>\n",
       "      <td>23580.5</td>\n",
       "      <td>0.883267</td>\n",
       "      <td>5</td>\n",
       "    </tr>\n",
       "    <tr>\n",
       "      <th>3</th>\n",
       "      <td>3</td>\n",
       "      <td>575</td>\n",
       "      <td>263</td>\n",
       "      <td>335</td>\n",
       "      <td>1.272727</td>\n",
       "      <td>703.863135</td>\n",
       "      <td>32369.5</td>\n",
       "      <td>0.821050</td>\n",
       "      <td>7</td>\n",
       "    </tr>\n",
       "    <tr>\n",
       "      <th>4</th>\n",
       "      <td>5</td>\n",
       "      <td>586</td>\n",
       "      <td>283</td>\n",
       "      <td>263</td>\n",
       "      <td>1.075758</td>\n",
       "      <td>574.167315</td>\n",
       "      <td>21621.0</td>\n",
       "      <td>0.824155</td>\n",
       "      <td>0</td>\n",
       "    </tr>\n",
       "  </tbody>\n",
       "</table>\n",
       "</div>"
      ],
      "text/plain": [
       "   no_paths  no_points  width  height  elongation      length     area  \\\n",
       "0         5        883    339     243    1.393443  621.724587  21566.0   \n",
       "1         4        596    321     227    1.412281  580.020937  15616.5   \n",
       "2         8        571    287     272    1.054945  579.209087  23580.5   \n",
       "3         3        575    263     335    1.272727  703.863135  32369.5   \n",
       "4         5        586    283     263    1.075758  574.167315  21621.0   \n",
       "\n",
       "   roundness  drawing  \n",
       "0   0.701106        1  \n",
       "1   0.583319        3  \n",
       "2   0.883267        5  \n",
       "3   0.821050        7  \n",
       "4   0.824155        0  "
      ]
     },
     "execution_count": 9,
     "metadata": {},
     "output_type": "execute_result"
    }
   ],
   "source": [
    "df.head()"
   ]
  },
  {
   "cell_type": "markdown",
   "metadata": {},
   "source": [
    "Let's see each number to which categorical data was associated"
   ]
  },
  {
   "cell_type": "code",
   "execution_count": 10,
   "metadata": {},
   "outputs": [
    {
     "data": {
      "text/plain": [
       "{'bicycle': 0,\n",
       " 'car': 1,\n",
       " 'clock': 2,\n",
       " 'fish': 3,\n",
       " 'guitar': 4,\n",
       " 'house': 5,\n",
       " 'pencil': 6,\n",
       " 'tree': 7}"
      ]
     },
     "execution_count": 10,
     "metadata": {},
     "output_type": "execute_result"
    }
   ],
   "source": [
    "label_mapping = dict(zip(label_encode.classes_, label_encode.transform(label_encode.classes_)))\n",
    "label_mapping"
   ]
  },
  {
   "cell_type": "markdown",
   "metadata": {},
   "source": [
    "#### Data splitting & Standardization\n",
    "- Splitting data"
   ]
  },
  {
   "cell_type": "code",
   "execution_count": 11,
   "metadata": {},
   "outputs": [],
   "source": [
    "from sklearn.model_selection import train_test_split\n",
    "X = df.iloc[:,:-1]\n",
    "y = df.iloc[:,-1]"
   ]
  },
  {
   "cell_type": "code",
   "execution_count": 12,
   "metadata": {},
   "outputs": [
    {
     "data": {
      "text/html": [
       "<div>\n",
       "<style scoped>\n",
       "    .dataframe tbody tr th:only-of-type {\n",
       "        vertical-align: middle;\n",
       "    }\n",
       "\n",
       "    .dataframe tbody tr th {\n",
       "        vertical-align: top;\n",
       "    }\n",
       "\n",
       "    .dataframe thead th {\n",
       "        text-align: right;\n",
       "    }\n",
       "</style>\n",
       "<table border=\"1\" class=\"dataframe\">\n",
       "  <thead>\n",
       "    <tr style=\"text-align: right;\">\n",
       "      <th></th>\n",
       "      <th>no_paths</th>\n",
       "      <th>no_points</th>\n",
       "      <th>width</th>\n",
       "      <th>height</th>\n",
       "      <th>elongation</th>\n",
       "      <th>length</th>\n",
       "      <th>area</th>\n",
       "      <th>roundness</th>\n",
       "    </tr>\n",
       "  </thead>\n",
       "  <tbody>\n",
       "    <tr>\n",
       "      <th>0</th>\n",
       "      <td>5</td>\n",
       "      <td>883</td>\n",
       "      <td>339</td>\n",
       "      <td>243</td>\n",
       "      <td>1.393443</td>\n",
       "      <td>621.724587</td>\n",
       "      <td>21566.0</td>\n",
       "      <td>0.701106</td>\n",
       "    </tr>\n",
       "    <tr>\n",
       "      <th>1</th>\n",
       "      <td>4</td>\n",
       "      <td>596</td>\n",
       "      <td>321</td>\n",
       "      <td>227</td>\n",
       "      <td>1.412281</td>\n",
       "      <td>580.020937</td>\n",
       "      <td>15616.5</td>\n",
       "      <td>0.583319</td>\n",
       "    </tr>\n",
       "    <tr>\n",
       "      <th>2</th>\n",
       "      <td>8</td>\n",
       "      <td>571</td>\n",
       "      <td>287</td>\n",
       "      <td>272</td>\n",
       "      <td>1.054945</td>\n",
       "      <td>579.209087</td>\n",
       "      <td>23580.5</td>\n",
       "      <td>0.883267</td>\n",
       "    </tr>\n",
       "    <tr>\n",
       "      <th>3</th>\n",
       "      <td>3</td>\n",
       "      <td>575</td>\n",
       "      <td>263</td>\n",
       "      <td>335</td>\n",
       "      <td>1.272727</td>\n",
       "      <td>703.863135</td>\n",
       "      <td>32369.5</td>\n",
       "      <td>0.821050</td>\n",
       "    </tr>\n",
       "    <tr>\n",
       "      <th>4</th>\n",
       "      <td>5</td>\n",
       "      <td>586</td>\n",
       "      <td>283</td>\n",
       "      <td>263</td>\n",
       "      <td>1.075758</td>\n",
       "      <td>574.167315</td>\n",
       "      <td>21621.0</td>\n",
       "      <td>0.824155</td>\n",
       "    </tr>\n",
       "  </tbody>\n",
       "</table>\n",
       "</div>"
      ],
      "text/plain": [
       "   no_paths  no_points  width  height  elongation      length     area  \\\n",
       "0         5        883    339     243    1.393443  621.724587  21566.0   \n",
       "1         4        596    321     227    1.412281  580.020937  15616.5   \n",
       "2         8        571    287     272    1.054945  579.209087  23580.5   \n",
       "3         3        575    263     335    1.272727  703.863135  32369.5   \n",
       "4         5        586    283     263    1.075758  574.167315  21621.0   \n",
       "\n",
       "   roundness  \n",
       "0   0.701106  \n",
       "1   0.583319  \n",
       "2   0.883267  \n",
       "3   0.821050  \n",
       "4   0.824155  "
      ]
     },
     "execution_count": 12,
     "metadata": {},
     "output_type": "execute_result"
    }
   ],
   "source": [
    "X.head()"
   ]
  },
  {
   "cell_type": "code",
   "execution_count": 13,
   "metadata": {},
   "outputs": [
    {
     "data": {
      "text/plain": [
       "0       1\n",
       "1       3\n",
       "2       5\n",
       "3       7\n",
       "4       0\n",
       "       ..\n",
       "5502    7\n",
       "5503    0\n",
       "5504    4\n",
       "5505    6\n",
       "5506    2\n",
       "Name: drawing, Length: 5507, dtype: int32"
      ]
     },
     "execution_count": 13,
     "metadata": {},
     "output_type": "execute_result"
    }
   ],
   "source": [
    "y"
   ]
  },
  {
   "cell_type": "code",
   "execution_count": 14,
   "metadata": {},
   "outputs": [],
   "source": [
    "X_train, X_test, y_train, y_test = train_test_split(X,y, test_size=0.2, random_state=2024)"
   ]
  },
  {
   "cell_type": "code",
   "execution_count": 15,
   "metadata": {},
   "outputs": [
    {
     "data": {
      "text/html": [
       "<div>\n",
       "<style scoped>\n",
       "    .dataframe tbody tr th:only-of-type {\n",
       "        vertical-align: middle;\n",
       "    }\n",
       "\n",
       "    .dataframe tbody tr th {\n",
       "        vertical-align: top;\n",
       "    }\n",
       "\n",
       "    .dataframe thead th {\n",
       "        text-align: right;\n",
       "    }\n",
       "</style>\n",
       "<table border=\"1\" class=\"dataframe\">\n",
       "  <thead>\n",
       "    <tr style=\"text-align: right;\">\n",
       "      <th></th>\n",
       "      <th>no_paths</th>\n",
       "      <th>no_points</th>\n",
       "      <th>width</th>\n",
       "      <th>height</th>\n",
       "      <th>elongation</th>\n",
       "      <th>length</th>\n",
       "      <th>area</th>\n",
       "      <th>roundness</th>\n",
       "    </tr>\n",
       "  </thead>\n",
       "  <tbody>\n",
       "    <tr>\n",
       "      <th>1680</th>\n",
       "      <td>7</td>\n",
       "      <td>319</td>\n",
       "      <td>318</td>\n",
       "      <td>216</td>\n",
       "      <td>1.470046</td>\n",
       "      <td>528.687555</td>\n",
       "      <td>16995.5</td>\n",
       "      <td>0.764092</td>\n",
       "    </tr>\n",
       "    <tr>\n",
       "      <th>2467</th>\n",
       "      <td>6</td>\n",
       "      <td>743</td>\n",
       "      <td>300</td>\n",
       "      <td>339</td>\n",
       "      <td>1.129568</td>\n",
       "      <td>718.688165</td>\n",
       "      <td>15180.5</td>\n",
       "      <td>0.369330</td>\n",
       "    </tr>\n",
       "    <tr>\n",
       "      <th>838</th>\n",
       "      <td>7</td>\n",
       "      <td>328</td>\n",
       "      <td>290</td>\n",
       "      <td>283</td>\n",
       "      <td>1.024648</td>\n",
       "      <td>693.592418</td>\n",
       "      <td>37161.0</td>\n",
       "      <td>0.970708</td>\n",
       "    </tr>\n",
       "    <tr>\n",
       "      <th>2717</th>\n",
       "      <td>15</td>\n",
       "      <td>504</td>\n",
       "      <td>368</td>\n",
       "      <td>164</td>\n",
       "      <td>2.236364</td>\n",
       "      <td>498.340274</td>\n",
       "      <td>9888.0</td>\n",
       "      <td>0.500341</td>\n",
       "    </tr>\n",
       "    <tr>\n",
       "      <th>1855</th>\n",
       "      <td>3</td>\n",
       "      <td>141</td>\n",
       "      <td>223</td>\n",
       "      <td>229</td>\n",
       "      <td>1.026786</td>\n",
       "      <td>347.794510</td>\n",
       "      <td>7937.5</td>\n",
       "      <td>0.824609</td>\n",
       "    </tr>\n",
       "    <tr>\n",
       "      <th>...</th>\n",
       "      <td>...</td>\n",
       "      <td>...</td>\n",
       "      <td>...</td>\n",
       "      <td>...</td>\n",
       "      <td>...</td>\n",
       "      <td>...</td>\n",
       "      <td>...</td>\n",
       "      <td>...</td>\n",
       "    </tr>\n",
       "    <tr>\n",
       "      <th>183</th>\n",
       "      <td>17</td>\n",
       "      <td>885</td>\n",
       "      <td>359</td>\n",
       "      <td>321</td>\n",
       "      <td>1.118012</td>\n",
       "      <td>804.836099</td>\n",
       "      <td>36891.5</td>\n",
       "      <td>0.715684</td>\n",
       "    </tr>\n",
       "    <tr>\n",
       "      <th>2494</th>\n",
       "      <td>3</td>\n",
       "      <td>138</td>\n",
       "      <td>280</td>\n",
       "      <td>195</td>\n",
       "      <td>1.433673</td>\n",
       "      <td>554.283253</td>\n",
       "      <td>21006.5</td>\n",
       "      <td>0.859211</td>\n",
       "    </tr>\n",
       "    <tr>\n",
       "      <th>2688</th>\n",
       "      <td>7</td>\n",
       "      <td>481</td>\n",
       "      <td>301</td>\n",
       "      <td>335</td>\n",
       "      <td>1.112583</td>\n",
       "      <td>628.193964</td>\n",
       "      <td>22994.5</td>\n",
       "      <td>0.732228</td>\n",
       "    </tr>\n",
       "    <tr>\n",
       "      <th>2656</th>\n",
       "      <td>9</td>\n",
       "      <td>378</td>\n",
       "      <td>316</td>\n",
       "      <td>217</td>\n",
       "      <td>1.454128</td>\n",
       "      <td>566.505897</td>\n",
       "      <td>18900.5</td>\n",
       "      <td>0.740073</td>\n",
       "    </tr>\n",
       "    <tr>\n",
       "      <th>3578</th>\n",
       "      <td>3</td>\n",
       "      <td>588</td>\n",
       "      <td>354</td>\n",
       "      <td>233</td>\n",
       "      <td>1.517094</td>\n",
       "      <td>740.873711</td>\n",
       "      <td>25659.5</td>\n",
       "      <td>0.587448</td>\n",
       "    </tr>\n",
       "  </tbody>\n",
       "</table>\n",
       "<p>4405 rows × 8 columns</p>\n",
       "</div>"
      ],
      "text/plain": [
       "      no_paths  no_points  width  height  elongation      length     area  \\\n",
       "1680         7        319    318     216    1.470046  528.687555  16995.5   \n",
       "2467         6        743    300     339    1.129568  718.688165  15180.5   \n",
       "838          7        328    290     283    1.024648  693.592418  37161.0   \n",
       "2717        15        504    368     164    2.236364  498.340274   9888.0   \n",
       "1855         3        141    223     229    1.026786  347.794510   7937.5   \n",
       "...        ...        ...    ...     ...         ...         ...      ...   \n",
       "183         17        885    359     321    1.118012  804.836099  36891.5   \n",
       "2494         3        138    280     195    1.433673  554.283253  21006.5   \n",
       "2688         7        481    301     335    1.112583  628.193964  22994.5   \n",
       "2656         9        378    316     217    1.454128  566.505897  18900.5   \n",
       "3578         3        588    354     233    1.517094  740.873711  25659.5   \n",
       "\n",
       "      roundness  \n",
       "1680   0.764092  \n",
       "2467   0.369330  \n",
       "838    0.970708  \n",
       "2717   0.500341  \n",
       "1855   0.824609  \n",
       "...         ...  \n",
       "183    0.715684  \n",
       "2494   0.859211  \n",
       "2688   0.732228  \n",
       "2656   0.740073  \n",
       "3578   0.587448  \n",
       "\n",
       "[4405 rows x 8 columns]"
      ]
     },
     "execution_count": 15,
     "metadata": {},
     "output_type": "execute_result"
    }
   ],
   "source": [
    "X_train"
   ]
  },
  {
   "cell_type": "markdown",
   "metadata": {},
   "source": [
    "- Data Standardization"
   ]
  },
  {
   "cell_type": "code",
   "execution_count": 16,
   "metadata": {},
   "outputs": [],
   "source": [
    "from sklearn.preprocessing import StandardScaler\n",
    "scaler = StandardScaler()"
   ]
  },
  {
   "cell_type": "code",
   "execution_count": 17,
   "metadata": {},
   "outputs": [],
   "source": [
    "X_train_scaled=scaler.fit_transform(X_train)\n",
    "X_test_scaled=scaler.transform(X_test)"
   ]
  },
  {
   "cell_type": "code",
   "execution_count": 18,
   "metadata": {},
   "outputs": [
    {
     "data": {
      "text/plain": [
       "array([[-0.38273665, -0.54292468,  0.11905301, ..., -0.99799164,\n",
       "        -0.80645547,  0.1146172 ],\n",
       "       [-0.45807312,  0.06842478, -0.23261086, ..., -0.02224692,\n",
       "        -0.8916866 , -2.13293701],\n",
       "       [-0.38273665, -0.52994793, -0.42797969, ..., -0.15112568,\n",
       "         0.14050231,  1.2909741 ],\n",
       "       ...,\n",
       "       [-0.38273665, -0.30934305, -0.21307398, ..., -0.48697826,\n",
       "        -0.52474662, -0.06679874],\n",
       "       [-0.2320637 , -0.45785483,  0.07997925, ..., -0.80377623,\n",
       "        -0.716998  , -0.02213615],\n",
       "       [-0.68408254, -0.15506382,  0.82238077, ...,  0.09168655,\n",
       "        -0.39960009, -0.89109375]])"
      ]
     },
     "execution_count": 18,
     "metadata": {},
     "output_type": "execute_result"
    }
   ],
   "source": [
    "X_train_scaled"
   ]
  },
  {
   "cell_type": "markdown",
   "metadata": {},
   "source": [
    "### Model Training\n",
    "- K-Nearest Classifier"
   ]
  },
  {
   "cell_type": "markdown",
   "metadata": {},
   "source": [
    "We'll be using `GridSearchCV` : It's a method that help us to try multiple k values and hyperparameters to choose the best suited model"
   ]
  },
  {
   "cell_type": "code",
   "execution_count": 25,
   "metadata": {},
   "outputs": [
    {
     "data": {
      "text/html": [
       "<style>#sk-container-id-3 {color: black;background-color: white;}#sk-container-id-3 pre{padding: 0;}#sk-container-id-3 div.sk-toggleable {background-color: white;}#sk-container-id-3 label.sk-toggleable__label {cursor: pointer;display: block;width: 100%;margin-bottom: 0;padding: 0.3em;box-sizing: border-box;text-align: center;}#sk-container-id-3 label.sk-toggleable__label-arrow:before {content: \"▸\";float: left;margin-right: 0.25em;color: #696969;}#sk-container-id-3 label.sk-toggleable__label-arrow:hover:before {color: black;}#sk-container-id-3 div.sk-estimator:hover label.sk-toggleable__label-arrow:before {color: black;}#sk-container-id-3 div.sk-toggleable__content {max-height: 0;max-width: 0;overflow: hidden;text-align: left;background-color: #f0f8ff;}#sk-container-id-3 div.sk-toggleable__content pre {margin: 0.2em;color: black;border-radius: 0.25em;background-color: #f0f8ff;}#sk-container-id-3 input.sk-toggleable__control:checked~div.sk-toggleable__content {max-height: 200px;max-width: 100%;overflow: auto;}#sk-container-id-3 input.sk-toggleable__control:checked~label.sk-toggleable__label-arrow:before {content: \"▾\";}#sk-container-id-3 div.sk-estimator input.sk-toggleable__control:checked~label.sk-toggleable__label {background-color: #d4ebff;}#sk-container-id-3 div.sk-label input.sk-toggleable__control:checked~label.sk-toggleable__label {background-color: #d4ebff;}#sk-container-id-3 input.sk-hidden--visually {border: 0;clip: rect(1px 1px 1px 1px);clip: rect(1px, 1px, 1px, 1px);height: 1px;margin: -1px;overflow: hidden;padding: 0;position: absolute;width: 1px;}#sk-container-id-3 div.sk-estimator {font-family: monospace;background-color: #f0f8ff;border: 1px dotted black;border-radius: 0.25em;box-sizing: border-box;margin-bottom: 0.5em;}#sk-container-id-3 div.sk-estimator:hover {background-color: #d4ebff;}#sk-container-id-3 div.sk-parallel-item::after {content: \"\";width: 100%;border-bottom: 1px solid gray;flex-grow: 1;}#sk-container-id-3 div.sk-label:hover label.sk-toggleable__label {background-color: #d4ebff;}#sk-container-id-3 div.sk-serial::before {content: \"\";position: absolute;border-left: 1px solid gray;box-sizing: border-box;top: 0;bottom: 0;left: 50%;z-index: 0;}#sk-container-id-3 div.sk-serial {display: flex;flex-direction: column;align-items: center;background-color: white;padding-right: 0.2em;padding-left: 0.2em;position: relative;}#sk-container-id-3 div.sk-item {position: relative;z-index: 1;}#sk-container-id-3 div.sk-parallel {display: flex;align-items: stretch;justify-content: center;background-color: white;position: relative;}#sk-container-id-3 div.sk-item::before, #sk-container-id-3 div.sk-parallel-item::before {content: \"\";position: absolute;border-left: 1px solid gray;box-sizing: border-box;top: 0;bottom: 0;left: 50%;z-index: -1;}#sk-container-id-3 div.sk-parallel-item {display: flex;flex-direction: column;z-index: 1;position: relative;background-color: white;}#sk-container-id-3 div.sk-parallel-item:first-child::after {align-self: flex-end;width: 50%;}#sk-container-id-3 div.sk-parallel-item:last-child::after {align-self: flex-start;width: 50%;}#sk-container-id-3 div.sk-parallel-item:only-child::after {width: 0;}#sk-container-id-3 div.sk-dashed-wrapped {border: 1px dashed gray;margin: 0 0.4em 0.5em 0.4em;box-sizing: border-box;padding-bottom: 0.4em;background-color: white;}#sk-container-id-3 div.sk-label label {font-family: monospace;font-weight: bold;display: inline-block;line-height: 1.2em;}#sk-container-id-3 div.sk-label-container {text-align: center;}#sk-container-id-3 div.sk-container {/* jupyter's `normalize.less` sets `[hidden] { display: none; }` but bootstrap.min.css set `[hidden] { display: none !important; }` so we also need the `!important` here to be able to override the default hidden behavior on the sphinx rendered scikit-learn.org. See: https://github.com/scikit-learn/scikit-learn/issues/21755 */display: inline-block !important;position: relative;}#sk-container-id-3 div.sk-text-repr-fallback {display: none;}</style><div id=\"sk-container-id-3\" class=\"sk-top-container\"><div class=\"sk-text-repr-fallback\"><pre>GridSearchCV(cv=5, estimator=KNeighborsClassifier(),\n",
       "             param_grid={&#x27;metric&#x27;: [&#x27;euclidean&#x27;, &#x27;manhattan&#x27;],\n",
       "                         &#x27;n_neighbors&#x27;: array([ 1,  2,  3,  4,  5,  6,  7,  8,  9, 10, 11, 12, 13, 14, 15, 16, 17,\n",
       "       18, 19])})</pre><b>In a Jupyter environment, please rerun this cell to show the HTML representation or trust the notebook. <br />On GitHub, the HTML representation is unable to render, please try loading this page with nbviewer.org.</b></div><div class=\"sk-container\" hidden><div class=\"sk-item sk-dashed-wrapped\"><div class=\"sk-label-container\"><div class=\"sk-label sk-toggleable\"><input class=\"sk-toggleable__control sk-hidden--visually\" id=\"sk-estimator-id-5\" type=\"checkbox\" ><label for=\"sk-estimator-id-5\" class=\"sk-toggleable__label sk-toggleable__label-arrow\">GridSearchCV</label><div class=\"sk-toggleable__content\"><pre>GridSearchCV(cv=5, estimator=KNeighborsClassifier(),\n",
       "             param_grid={&#x27;metric&#x27;: [&#x27;euclidean&#x27;, &#x27;manhattan&#x27;],\n",
       "                         &#x27;n_neighbors&#x27;: array([ 1,  2,  3,  4,  5,  6,  7,  8,  9, 10, 11, 12, 13, 14, 15, 16, 17,\n",
       "       18, 19])})</pre></div></div></div><div class=\"sk-parallel\"><div class=\"sk-parallel-item\"><div class=\"sk-item\"><div class=\"sk-label-container\"><div class=\"sk-label sk-toggleable\"><input class=\"sk-toggleable__control sk-hidden--visually\" id=\"sk-estimator-id-6\" type=\"checkbox\" ><label for=\"sk-estimator-id-6\" class=\"sk-toggleable__label sk-toggleable__label-arrow\">estimator: KNeighborsClassifier</label><div class=\"sk-toggleable__content\"><pre>KNeighborsClassifier()</pre></div></div></div><div class=\"sk-serial\"><div class=\"sk-item\"><div class=\"sk-estimator sk-toggleable\"><input class=\"sk-toggleable__control sk-hidden--visually\" id=\"sk-estimator-id-7\" type=\"checkbox\" ><label for=\"sk-estimator-id-7\" class=\"sk-toggleable__label sk-toggleable__label-arrow\">KNeighborsClassifier</label><div class=\"sk-toggleable__content\"><pre>KNeighborsClassifier()</pre></div></div></div></div></div></div></div></div></div></div>"
      ],
      "text/plain": [
       "GridSearchCV(cv=5, estimator=KNeighborsClassifier(),\n",
       "             param_grid={'metric': ['euclidean', 'manhattan'],\n",
       "                         'n_neighbors': array([ 1,  2,  3,  4,  5,  6,  7,  8,  9, 10, 11, 12, 13, 14, 15, 16, 17,\n",
       "       18, 19])})"
      ]
     },
     "execution_count": 25,
     "metadata": {},
     "output_type": "execute_result"
    }
   ],
   "source": [
    "from sklearn.neighbors import KNeighborsClassifier\n",
    "from sklearn.model_selection import GridSearchCV\n",
    "import numpy as np\n",
    "param_grid = {'n_neighbors': np. arange (1, 20),\n",
    "              'metric': ['euclidean', 'manhattan']}\n",
    "grid = GridSearchCV(KNeighborsClassifier(),param_grid,cv=5) \n",
    "grid.fit(X_train_scaled,y_train)"
   ]
  },
  {
   "cell_type": "code",
   "execution_count": 26,
   "metadata": {},
   "outputs": [
    {
     "name": "stdout",
     "output_type": "stream",
     "text": [
      "grid.best_score_=0.5897843359818388  grid.best_params_={'metric': 'manhattan', 'n_neighbors': 15}\n"
     ]
    }
   ],
   "source": [
    "print(f\"{grid.best_score_=}  {grid.best_params_=}\")"
   ]
  },
  {
   "cell_type": "code",
   "execution_count": 27,
   "metadata": {},
   "outputs": [
    {
     "data": {
      "text/plain": [
       "0.5898366606170599"
      ]
     },
     "execution_count": 27,
     "metadata": {},
     "output_type": "execute_result"
    }
   ],
   "source": [
    "nmodel = grid.best_estimator_\n",
    "nmodel.fit(X_train_scaled,y_train)\n",
    "nmodel.score(X_test_scaled,y_test)"
   ]
  },
  {
   "cell_type": "code",
   "execution_count": 28,
   "metadata": {},
   "outputs": [
    {
     "name": "stdout",
     "output_type": "stream",
     "text": [
      "Mean Squared Error: 4.219600725952813\n",
      "Mean Absolute Error: 1.1560798548094373\n",
      "R-squared Score: 0.22202033316956826\n"
     ]
    }
   ],
   "source": [
    "from sklearn.metrics import mean_squared_error, mean_absolute_error, r2_score\n",
    "\n",
    "# Make predictions on the test set\n",
    "y_pred = nmodel.predict(X_test_scaled)\n",
    "\n",
    "# Calculate the mean squared error\n",
    "mse = mean_squared_error(y_test, y_pred)\n",
    "print(f'Mean Squared Error: {mse}')\n",
    "\n",
    "# Calculate the mean absolute error\n",
    "mae = mean_absolute_error(y_test, y_pred)\n",
    "print(f'Mean Absolute Error: {mae}')\n",
    "\n",
    "# Calculate the R-squared score\n",
    "r2 = r2_score(y_test, y_pred)\n",
    "print(f'R-squared Score: {r2}')"
   ]
  },
  {
   "cell_type": "markdown",
   "metadata": {},
   "source": [
    "So this KNN model is not good at all."
   ]
  },
  {
   "cell_type": "markdown",
   "metadata": {},
   "source": [
    "* Other models:"
   ]
  },
  {
   "cell_type": "code",
   "execution_count": 32,
   "metadata": {},
   "outputs": [
    {
     "name": "stderr",
     "output_type": "stream",
     "text": [
      "c:\\Python310\\lib\\site-packages\\sklearn\\linear_model\\_logistic.py:444: ConvergenceWarning: lbfgs failed to converge (status=1):\n",
      "STOP: TOTAL NO. of ITERATIONS REACHED LIMIT.\n",
      "\n",
      "Increase the number of iterations (max_iter) or scale the data as shown in:\n",
      "    https://scikit-learn.org/stable/modules/preprocessing.html\n",
      "Please also refer to the documentation for alternative solver options:\n",
      "    https://scikit-learn.org/stable/modules/linear_model.html#logistic-regression\n",
      "  n_iter_i = _check_optimize_result(\n"
     ]
    },
    {
     "name": "stdout",
     "output_type": "stream",
     "text": [
      "The model : Logistic Regression\n",
      "Accuracy: 0.5862068965517241\n",
      "Mean Squared Error: 4.481851179673321\n",
      "Mean Absolute Error: 1.1950998185117967\n",
      "R-squared Score: 0.17366847860741885\n",
      "###################################################\n",
      "The model : SVM\n",
      "Accuracy: 0.6161524500907442\n",
      "Mean Squared Error: 4.336660617059891\n",
      "Mean Absolute Error: 1.1370235934664248\n",
      "R-squared Score: 0.200437671444595\n",
      "###################################################\n",
      "The model : Decision Tree\n",
      "Accuracy: 0.5190562613430127\n",
      "Mean Squared Error: 5.608892921960073\n",
      "Mean Absolute Error: 1.4419237749546279\n",
      "R-squared Score: -0.034127380791160844\n",
      "###################################################\n",
      "The model : Random Forest\n",
      "Accuracy: 0.6079854809437386\n",
      "Mean Squared Error: 4.190562613430127\n",
      "Mean Absolute Error: 1.1270417422867514\n",
      "R-squared Score: 0.22737417173700358\n",
      "###################################################\n"
     ]
    }
   ],
   "source": [
    "from sklearn.linear_model import LogisticRegression\n",
    "from sklearn.svm import SVC\n",
    "from sklearn.tree import DecisionTreeClassifier\n",
    "from sklearn.ensemble import RandomForestClassifier\n",
    "from sklearn.metrics import accuracy_score\n",
    "\n",
    "# Define the models\n",
    "models = [\n",
    "    ('Logistic Regression', LogisticRegression()),\n",
    "    ('SVM', SVC()),\n",
    "    ('Decision Tree', DecisionTreeClassifier()),\n",
    "    ('Random Forest', RandomForestClassifier())\n",
    "]\n",
    "\n",
    "for name, model in models:\n",
    "    model.fit(X_train_scaled, y_train)\n",
    "    \n",
    "    y_pred = model.predict(X_test_scaled)\n",
    "    \n",
    "    accuracy = accuracy_score(y_test, y_pred)\n",
    "    \n",
    "    print(f\"The model : {name}\")\n",
    "\n",
    "    print(f'Accuracy: {accuracy}')\n",
    "\n",
    "    mse = mean_squared_error(y_test, y_pred)\n",
    "    print(f'Mean Squared Error: {mse}')\n",
    "\n",
    "    mae = mean_absolute_error(y_test, y_pred)\n",
    "    print(f'Mean Absolute Error: {mae}')\n",
    "\n",
    "    r2 = r2_score(y_test, y_pred)\n",
    "    print(f'R-squared Score: {r2}')\n",
    "\n",
    "    print(\"###################################################\")"
   ]
  },
  {
   "cell_type": "markdown",
   "metadata": {},
   "source": [
    "As we see the models aren't good enough, the best one (SVC) has an accuracy of 0.61(61%) which is not good enough.\n",
    "\n",
    "### So, we'll try to use a deep learning approach to classify the shapes.\t"
   ]
  },
  {
   "cell_type": "markdown",
   "metadata": {},
   "source": [
    "### Previous Notebook : [Feature Extraction](Feature_Extraction.ipynb)\n",
    "### Next Notebook : [Deep learning approach](../DL_approach/Data_processing.ipynb)"
   ]
  }
 ],
 "metadata": {
  "kernelspec": {
   "display_name": "Python 3",
   "language": "python",
   "name": "python3"
  },
  "language_info": {
   "codemirror_mode": {
    "name": "ipython",
    "version": 3
   },
   "file_extension": ".py",
   "mimetype": "text/x-python",
   "name": "python",
   "nbconvert_exporter": "python",
   "pygments_lexer": "ipython3",
   "version": "3.10.7"
  }
 },
 "nbformat": 4,
 "nbformat_minor": 2
}
